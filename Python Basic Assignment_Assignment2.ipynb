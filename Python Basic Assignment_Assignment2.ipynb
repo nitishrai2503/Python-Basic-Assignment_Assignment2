{
 "cells": [
  {
   "cell_type": "markdown",
   "id": "3cb51861",
   "metadata": {},
   "source": [
    "1.What are the two values of the Boolean data type? How do you write them?\n",
    "Ans- The two values of the Boolean data types are True and False. These values are keywords in Python and are used to denote logical truths and falsehoods, respectively.\n",
    "\n",
    "True: Represents the logical truth.\n",
    "False: Represents the logical falsehood.\n",
    "\n",
    "These values are written exactly as shown, with the first letter capitalized: True and False.\n"
   ]
  },
  {
   "cell_type": "markdown",
   "id": "c068c967",
   "metadata": {},
   "source": [
    "2. What are the three different types of Boolean operators?\n",
    "Ans- The three different types of Boolean operators are:\n",
    "\n",
    "i.) AND Operator (and):\n",
    "The and operator returns True if both operands are True, otherwise, it returns False.\n",
    "\n",
    "ii.) OR Operator (or):\n",
    "The or operator returns True if at least one of the operands is True, otherwise, it returns False.\n",
    "\n",
    "iii.) NOT Operator (not):\n",
    "The not operator returns the negation of the operand. If the operand is True, not returns False, and vice versa.\n"
   ]
  },
  {
   "cell_type": "markdown",
   "id": "1eedbeff",
   "metadata": {},
   "source": [
    "3. Make a list of each Boolean operator's truth tables (i.e. every possible combination of Boolean\n",
    "values for the operator and what it evaluate ).\n",
    "Ans- Below are the all possible outcomes\n",
    "\n",
    "i.) AND Operator (and):\n",
    "Operand1\tOperand2\tResult\n",
    "False      False\t    False\n",
    "False\t   True\t        False\n",
    "True\t   False\t    False\n",
    "True\t   True\t        True\n",
    "\n",
    "ii.) OR Operator (or):\n",
    "Operand1\tOperand2\tResult\n",
    "False\t    False\t    False\n",
    "False\t    True\t    True\n",
    "True\t    False\t    True\n",
    "True\t    True\t    True\n",
    "\n",
    "\n",
    "iii.) NOT Operator (not):\n",
    "Operand\t Result\n",
    "False\t True\n",
    "True\t False"
   ]
  },
  {
   "cell_type": "markdown",
   "id": "ea571875",
   "metadata": {},
   "source": [
    "4. What are the values of the following expressions?\n",
    "Ans- I have run the code below"
   ]
  },
  {
   "cell_type": "code",
   "execution_count": 1,
   "id": "7c4e5ed2",
   "metadata": {},
   "outputs": [
    {
     "data": {
      "text/plain": [
       "False"
      ]
     },
     "execution_count": 1,
     "metadata": {},
     "output_type": "execute_result"
    }
   ],
   "source": [
    "(5>4) and (3==5)"
   ]
  },
  {
   "cell_type": "code",
   "execution_count": 2,
   "id": "8b1ae36d",
   "metadata": {},
   "outputs": [
    {
     "data": {
      "text/plain": [
       "False"
      ]
     },
     "execution_count": 2,
     "metadata": {},
     "output_type": "execute_result"
    }
   ],
   "source": [
    "not(5>4)"
   ]
  },
  {
   "cell_type": "code",
   "execution_count": 3,
   "id": "12cd4889",
   "metadata": {},
   "outputs": [
    {
     "data": {
      "text/plain": [
       "True"
      ]
     },
     "execution_count": 3,
     "metadata": {},
     "output_type": "execute_result"
    }
   ],
   "source": [
    "(5>4) or (3==5)"
   ]
  },
  {
   "cell_type": "code",
   "execution_count": 4,
   "id": "67ba0fc3",
   "metadata": {},
   "outputs": [
    {
     "data": {
      "text/plain": [
       "False"
      ]
     },
     "execution_count": 4,
     "metadata": {},
     "output_type": "execute_result"
    }
   ],
   "source": [
    "not ((5>4) or (3==5))"
   ]
  },
  {
   "cell_type": "code",
   "execution_count": 5,
   "id": "9ddc4c59",
   "metadata": {},
   "outputs": [
    {
     "data": {
      "text/plain": [
       "False"
      ]
     },
     "execution_count": 5,
     "metadata": {},
     "output_type": "execute_result"
    }
   ],
   "source": [
    "(True and True) and (True == False)"
   ]
  },
  {
   "cell_type": "code",
   "execution_count": 6,
   "id": "a7d0b764",
   "metadata": {},
   "outputs": [
    {
     "data": {
      "text/plain": [
       "True"
      ]
     },
     "execution_count": 6,
     "metadata": {},
     "output_type": "execute_result"
    }
   ],
   "source": [
    "(not False)or (not True)"
   ]
  },
  {
   "cell_type": "markdown",
   "id": "61fa4c86",
   "metadata": {},
   "source": [
    "5. What are the six comparison operators?\n",
    "Ans- The six comparison operators are:\n",
    "\n",
    "i.) Equal to (==)\n",
    "ii.) Not equal to (!=)\n",
    "iii.) Greater than (>)\n",
    "iv.) Less than (<)\n",
    "v.) Greater than or equal to (>=)\n",
    "vi) Less than or equal to (<=)"
   ]
  },
  {
   "cell_type": "markdown",
   "id": "f5f85c98",
   "metadata": {},
   "source": [
    "6. How do you tell the difference between the equal to and assignment operators?Describe a\n",
    "condition and when you would use one.\n",
    "Ans- The equal to operator (==) is used for comparison, while the assignment operator (=) is used to assign a value to a variable.\n",
    "\n",
    "Below is the key differentiate between them:\n",
    "\n",
    "Equal to operator (==):\n",
    "The double equals sign (==) is used to compare two values to check if they are equal.\n",
    "Example: if x == 5: - This condition checks if the value of variable x is equal to 5.\n",
    "\n",
    "Assignment operator (=):\n",
    "The single equals sign (=) is used to assign a value to a variable.\n",
    "Example: x = 5 - This assigns the value 5 to the variable x.\n"
   ]
  },
  {
   "cell_type": "markdown",
   "id": "023b598d",
   "metadata": {},
   "source": [
    "7. Identify the three blocks in this code:\n",
    "Ans- spam = 0, \n",
    "    #here = is assignment operator\n",
    "    if spam == 10:\n",
    "        print(\"eggs\")\n",
    "    #here equal to operator is used\n",
    "    #first block\n",
    "    if spam>5:\n",
    "        print(\"bacon\")\n",
    "    # second block\n",
    "    else:\n",
    "        print(\"ham\")\n",
    "        print(\"spam\")\n",
    "        print(\"spam\")\n",
    "    # third block\n",
    "\n"
   ]
  },
  {
   "cell_type": "markdown",
   "id": "f81cbda6",
   "metadata": {},
   "source": [
    "8. Write code that prints Hello if 1 is stored in spam, prints Howdy if 2 is stored in spam, and prints\n",
    "Greetings! if anything else is stored in spam.\n",
    "Ans- Below is the code."
   ]
  },
  {
   "cell_type": "code",
   "execution_count": null,
   "id": "89a66658",
   "metadata": {},
   "outputs": [],
   "source": [
    "spam = int(input(\"Please enter the number for spam: \"))\n",
    "if spam == 1:\n",
    "    print(\"Hello\")\n",
    "elif spam == 2:\n",
    "    print(\"Howdy\")\n",
    "else:\n",
    "    print(\"Greetings!\")"
   ]
  },
  {
   "cell_type": "markdown",
   "id": "db100fd2",
   "metadata": {},
   "source": [
    "9.If your programme is stuck in an endless loop, what keys you’ll press?\n",
    "Ans- We can press Ctrl + C on our keyboard. This keyboard shortcut sends a KeyboardInterrupt signal to the Python interpreter, causing it to terminate the program."
   ]
  },
  {
   "cell_type": "code",
   "execution_count": null,
   "id": "6f72dc4a",
   "metadata": {},
   "outputs": [],
   "source": [
    "10. How can you tell the difference between break and continue?\n",
    "Ans- break and continue are both control flow statements used within loops and they serve different purposes:\n",
    "    i.) break - The break statement is used to exit (terminate) the current loop prematurely, regardless of whether the loop's condition has been fully evaluated to True.\n",
    "    Ex- for i in range(5):\n",
    "            if i==2:\n",
    "                break\n",
    "            print(i)\n",
    "            \n",
    "    ii.) continue- The continue statement is used to skip the remaining code inside the loop for the current iteration and proceed to the next iteration of the loop.\n",
    "    Ex- for i in range(5):\n",
    "            if i==2:\n",
    "                continue\n",
    "            print(i)\n",
    "                "
   ]
  },
  {
   "cell_type": "code",
   "execution_count": null,
   "id": "bde5d33e",
   "metadata": {},
   "outputs": [],
   "source": [
    "11. In a for loop, what is the difference between range(10), range(0, 10), and range(0, 10, 1)?\n",
    "Ans- All will give same output."
   ]
  },
  {
   "cell_type": "code",
   "execution_count": null,
   "id": "a93dfa85",
   "metadata": {},
   "outputs": [],
   "source": [
    "12. Write a short program that prints the numbers 1 to 10 using a for loop. Then write an equivalent\n",
    "program that prints the numbers 1 to 10 using a while loop.\n",
    "Ans- "
   ]
  },
  {
   "cell_type": "code",
   "execution_count": null,
   "id": "c0d48fdc",
   "metadata": {},
   "outputs": [],
   "source": [
    "# using for loop\n",
    "for i in range(1, 11):\n",
    "    print(i)"
   ]
  },
  {
   "cell_type": "code",
   "execution_count": null,
   "id": "5fdfa2ac",
   "metadata": {},
   "outputs": [],
   "source": [
    "# using while loop\n",
    "a =1\n",
    "b = 10\n",
    "while a <= b:\n",
    "    print(a)\n",
    "    a = a+1"
   ]
  },
  {
   "cell_type": "code",
   "execution_count": null,
   "id": "944efd9d",
   "metadata": {},
   "outputs": [],
   "source": [
    "13. If you had a function named bacon() inside a module named spam, how would you call it after\n",
    "importing spam?\n",
    "Ans- Below is the code."
   ]
  },
  {
   "cell_type": "code",
   "execution_count": null,
   "id": "019f022b",
   "metadata": {},
   "outputs": [],
   "source": [
    "import spam\n",
    "spam.bacon()"
   ]
  },
  {
   "cell_type": "code",
   "execution_count": null,
   "id": "60b31f92",
   "metadata": {},
   "outputs": [],
   "source": []
  }
 ],
 "metadata": {
  "kernelspec": {
   "display_name": "Python 3 (ipykernel)",
   "language": "python",
   "name": "python3"
  },
  "language_info": {
   "codemirror_mode": {
    "name": "ipython",
    "version": 3
   },
   "file_extension": ".py",
   "mimetype": "text/x-python",
   "name": "python",
   "nbconvert_exporter": "python",
   "pygments_lexer": "ipython3",
   "version": "3.11.5"
  }
 },
 "nbformat": 4,
 "nbformat_minor": 5
}
